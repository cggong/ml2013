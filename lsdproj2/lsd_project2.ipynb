{
 "metadata": {
  "name": "lsd_project2_1"
 },
 "nbformat": 3,
 "nbformat_minor": 0,
 "worksheets": [
  {
   "cells": [
    {
     "cell_type": "heading",
     "level": 1,
     "metadata": {},
     "source": [
      "LSD Project 2, by Zi Chong Kao and Sen Tian"
     ]
    },
    {
     "cell_type": "heading",
     "level": 3,
     "metadata": {},
     "source": [
      "1. Generating Features"
     ]
    },
    {
     "cell_type": "markdown",
     "metadata": {},
     "source": [
      "We first produce the dictionary containing words that appear more than 20 times in tweets before Dec. 20th."
     ]
    },
    {
     "cell_type": "code",
     "collapsed": false,
     "input": [
      "import DAL\n",
      "import itertools\n",
      "import string\n",
      "import operator\n",
      "import unicodedata\n",
      "\n",
      "wishes = DAL.create('wishes')\n",
      "wishes_labelled = DAL.create('wishes-labelled')"
     ],
     "language": "python",
     "metadata": {},
     "outputs": [],
     "prompt_number": 1
    },
    {
     "cell_type": "code",
     "collapsed": false,
     "input": [
      "def cleantext(m):\n",
      "    # Normalization of unicode\n",
      "        m = unicodedata.normalize('NFKD', m).encode('ascii','ignore')\n",
      "        # Delete the punctuations\n",
      "        m = m.lower().translate(string.maketrans(\"\",\"\"),string.punctuation)\n",
      "        # Delete replicate white spaces\n",
      "        return \" \".join(m.split())"
     ],
     "language": "python",
     "metadata": {},
     "outputs": [],
     "prompt_number": 2
    },
    {
     "cell_type": "code",
     "collapsed": false,
     "input": [
      "d = {} # dictionary for storing the common vocabularies\n",
      "# We use tweets before Dec. 20th to generate the dictionary\n",
      "for i in range(0,19):\n",
      "    s = wishes_labelled.subsets()[i]\n",
      "    for w in wishes_labelled.iter(s):\n",
      "        m = cleantext(w['text'])\n",
      "                \n",
      "        for l in m.split(None):\n",
      "            # Build up the dictionary of words\n",
      "            if ( d.has_key(l) ):\n",
      "                d[l] = d[l] + 1\n",
      "            else:\n",
      "                d[l] = 1\n",
      "\n",
      "# select words appearing more than 10 times as the common vocabularies\n",
      "dict_common = dict((k, v) for k, v in d.iteritems() if v > 10)\n",
      "print len(dict_common)"
     ],
     "language": "python",
     "metadata": {},
     "outputs": [
      {
       "output_type": "stream",
       "stream": "stdout",
       "text": [
        "3748\n"
       ]
      }
     ],
     "prompt_number": 3
    },
    {
     "cell_type": "markdown",
     "metadata": {},
     "source": [
      "The features of our model consist of the words that make up the tweet. For each tweet, the covariate vector contains binary values. It is 1 if word is included in the dictionary we have chosen and it is 0 if not. "
     ]
    },
    {
     "cell_type": "code",
     "collapsed": false,
     "input": [
      "def tweet_vectors(l,dict_beta,dict_common):\n",
      "    x = map(lambda x: x in dict_common,l)\n",
      "    beta = map(lambda x: dict_beta[x] if x in dict_beta else 0, l )\n",
      "    return np.array(x),np.array(beta)"
     ],
     "language": "python",
     "metadata": {},
     "outputs": [],
     "prompt_number": 4
    },
    {
     "cell_type": "code",
     "collapsed": false,
     "input": [
      "import numpy as np\n",
      "\n",
      "# dictionary storing the words and corresponding beta values\n",
      "dict_beta = {}\n",
      "# penalty\n",
      "lamb = 0\n",
      "#learn_rate = 1.0\n",
      "\n",
      "# record the iteration times (learning rate depends on this value)\n",
      "count = 0\n",
      "# obtain the dictionary of wights (beta) using the training tweets (before Dec. 20th)\n",
      "for i in range(19):\n",
      "    s = wishes_labelled.subsets()[i]\n",
      "    for w in wishes_labelled.iter(s):\n",
      "        m = cleantext(w['text'])\n",
      "        # Split the tweet into words\n",
      "        l = m.split(None)\n",
      "        x,beta = tweet_vectors(l,dict_beta,dict_common)      \n",
      "        \n",
      "        # Do the SGD\n",
      "        # For labelled tweets\n",
      "        \n",
      "        # True observed label\n",
      "        y_true = w['label']\n",
      "        if (y_true != '?'):         \n",
      "            # learning rate\n",
      "            learn_rate = float(5) / sqrt(count+1)\n",
      "            \n",
      "            # pi\n",
      "            pii = float(1) / (1+exp(-numpy.dot(beta,x)))\n",
      "            # update beta vector\n",
      "            beta = beta + learn_rate * ((y_true-pii)*x-lamb*np.ones(len(x)))\n",
      "            # update the count number\n",
      "            count += 1\n",
      "                \n",
      "            # Update the dictionary storing the values of words and corresponding weight (beta)\n",
      "            for j in range(len(l)):\n",
      "                if (beta[j] != 0):\n",
      "                    dict_beta[l[j]] =  beta[j]\n",
      "                "
     ],
     "language": "python",
     "metadata": {},
     "outputs": [],
     "prompt_number": 11
    },
    {
     "cell_type": "heading",
     "level": 3,
     "metadata": {},
     "source": [
      "2. Stochastic Gradient Descent"
     ]
    },
    {
     "cell_type": "markdown",
     "metadata": {},
     "source": [
      "We have used training data to obtain the dictionary containing word and corresponding weight (beta). Now we can then apply this dictionary on the testing data to make predictions and calculate the error rate. "
     ]
    },
    {
     "cell_type": "code",
     "collapsed": false,
     "input": [
      "# penalty\n",
      "lamb = 0\n",
      "count = 0 # record the iteration times (learning rate depends on this value)\n",
      "#learn_rate = 1.0\n",
      "\n",
      "# create some lists to store values\n",
      "error = []\n",
      "tweet_id = []\n",
      "predicted_label = []\n",
      "\n",
      "# Make predictions and update weights (beta) by using the testing tweets (after Dec. 20th)\n",
      "for i in range(19,63):\n",
      "    print i\n",
      "    s = wishes_labelled.subsets()[i]\n",
      "    for w in wishes_labelled.iter(s):\n",
      "        m = cleantext(w['text'])\n",
      "        l = m.split()\n",
      "        x,beta = tweet_vectors(l,dict_beta,dict_common)\n",
      "        \n",
      "        # Do the SGD\n",
      "        # For labelled tweets\n",
      "\n",
      "        # Test and update from labeled tweets\n",
      "        y_true = w['label']\n",
      "        if (y_true != '?'):\n",
      "            # Predicted label (pi)\n",
      "            y_pred = float(1) / (1+exp(-numpy.dot(beta,x)))\n",
      "            # Check whether the prediction is correct\n",
      "            if np.absolute(y_true-y_pred)>0.5:\n",
      "                error.append(1)\n",
      "            else:\n",
      "                error.append(0)\n",
      "            \n",
      "            # learning rate\n",
      "            learn_rate = float(5) / sqrt(count+1)\n",
      "            \n",
      "            pii = float(1) / (1+exp(-numpy.dot(beta,x)))\n",
      "            beta = beta + learn_rate * ((y_true-pii)*x-lamb*np.ones(len(x)))\n",
      "            count += 1\n",
      "            \n",
      "            # Update the dictionary storing the values of words and corresponding weight (beta)\n",
      "            for j in range(0,len(l)):\n",
      "                if (beta[j] != 0):\n",
      "                    dict_beta[l[j]] =  beta[j]\n",
      "        \n",
      "        # Predict unlabelled tweets  \n",
      "        else:\n",
      "            # prediction of the label\n",
      "            y_pred = float(1) / (1+exp(-numpy.dot(beta,x)))\n",
      "            # determine which label the prediction indicates\n",
      "            label = (y_pred>0.5)\n",
      "            # record the id of unlabelled tweet and corresponding predicted label\n",
      "            predicted_label.append(label)\n",
      "            tweet_id.append(w['id'])\n",
      "            "
     ],
     "language": "python",
     "metadata": {},
     "outputs": [
      {
       "output_type": "stream",
       "stream": "stdout",
       "text": [
        "19\n",
        "20"
       ]
      },
      {
       "output_type": "stream",
       "stream": "stdout",
       "text": [
        "\n",
        "21"
       ]
      },
      {
       "output_type": "stream",
       "stream": "stdout",
       "text": [
        "\n",
        "22"
       ]
      },
      {
       "output_type": "stream",
       "stream": "stdout",
       "text": [
        "\n",
        "23"
       ]
      },
      {
       "output_type": "stream",
       "stream": "stdout",
       "text": [
        "\n",
        "24"
       ]
      },
      {
       "output_type": "stream",
       "stream": "stdout",
       "text": [
        "\n",
        "25"
       ]
      },
      {
       "output_type": "stream",
       "stream": "stdout",
       "text": [
        "\n",
        "26"
       ]
      },
      {
       "output_type": "stream",
       "stream": "stdout",
       "text": [
        "\n",
        "27"
       ]
      },
      {
       "output_type": "stream",
       "stream": "stdout",
       "text": [
        "\n",
        "28"
       ]
      },
      {
       "output_type": "stream",
       "stream": "stdout",
       "text": [
        "\n",
        "29"
       ]
      },
      {
       "output_type": "stream",
       "stream": "stdout",
       "text": [
        "\n",
        "30"
       ]
      },
      {
       "output_type": "stream",
       "stream": "stdout",
       "text": [
        "\n",
        "31"
       ]
      },
      {
       "output_type": "stream",
       "stream": "stdout",
       "text": [
        "\n",
        "32"
       ]
      },
      {
       "output_type": "stream",
       "stream": "stdout",
       "text": [
        "\n",
        "33"
       ]
      },
      {
       "output_type": "stream",
       "stream": "stdout",
       "text": [
        "\n",
        "34"
       ]
      },
      {
       "output_type": "stream",
       "stream": "stdout",
       "text": [
        "\n",
        "35"
       ]
      },
      {
       "output_type": "stream",
       "stream": "stdout",
       "text": [
        "\n",
        "36"
       ]
      },
      {
       "output_type": "stream",
       "stream": "stdout",
       "text": [
        "\n",
        "37"
       ]
      },
      {
       "output_type": "stream",
       "stream": "stdout",
       "text": [
        "\n",
        "38"
       ]
      },
      {
       "output_type": "stream",
       "stream": "stdout",
       "text": [
        "\n",
        "39"
       ]
      },
      {
       "output_type": "stream",
       "stream": "stdout",
       "text": [
        "\n",
        "40"
       ]
      },
      {
       "output_type": "stream",
       "stream": "stdout",
       "text": [
        "\n",
        "41"
       ]
      },
      {
       "output_type": "stream",
       "stream": "stdout",
       "text": [
        "\n",
        "42"
       ]
      },
      {
       "output_type": "stream",
       "stream": "stdout",
       "text": [
        "\n",
        "43"
       ]
      },
      {
       "output_type": "stream",
       "stream": "stdout",
       "text": [
        "\n",
        "44"
       ]
      },
      {
       "output_type": "stream",
       "stream": "stdout",
       "text": [
        "\n",
        "45"
       ]
      },
      {
       "output_type": "stream",
       "stream": "stdout",
       "text": [
        "\n",
        "46"
       ]
      },
      {
       "output_type": "stream",
       "stream": "stdout",
       "text": [
        "\n",
        "47"
       ]
      },
      {
       "output_type": "stream",
       "stream": "stdout",
       "text": [
        "\n",
        "48"
       ]
      },
      {
       "output_type": "stream",
       "stream": "stdout",
       "text": [
        "\n",
        "49"
       ]
      },
      {
       "output_type": "stream",
       "stream": "stdout",
       "text": [
        "\n",
        "50"
       ]
      },
      {
       "output_type": "stream",
       "stream": "stdout",
       "text": [
        "\n",
        "51"
       ]
      },
      {
       "output_type": "stream",
       "stream": "stdout",
       "text": [
        "\n",
        "52"
       ]
      },
      {
       "output_type": "stream",
       "stream": "stdout",
       "text": [
        "\n",
        "53"
       ]
      },
      {
       "output_type": "stream",
       "stream": "stdout",
       "text": [
        "\n",
        "54"
       ]
      },
      {
       "output_type": "stream",
       "stream": "stdout",
       "text": [
        "\n",
        "55"
       ]
      },
      {
       "output_type": "stream",
       "stream": "stdout",
       "text": [
        "\n",
        "56"
       ]
      },
      {
       "output_type": "stream",
       "stream": "stdout",
       "text": [
        "\n",
        "57"
       ]
      },
      {
       "output_type": "stream",
       "stream": "stdout",
       "text": [
        "\n",
        "58"
       ]
      },
      {
       "output_type": "stream",
       "stream": "stdout",
       "text": [
        "\n",
        "59"
       ]
      },
      {
       "output_type": "stream",
       "stream": "stdout",
       "text": [
        "\n",
        "60"
       ]
      },
      {
       "output_type": "stream",
       "stream": "stdout",
       "text": [
        "\n",
        "61"
       ]
      },
      {
       "output_type": "stream",
       "stream": "stdout",
       "text": [
        "\n",
        "62"
       ]
      },
      {
       "output_type": "stream",
       "stream": "stdout",
       "text": [
        "\n"
       ]
      }
     ],
     "prompt_number": 12
    },
    {
     "cell_type": "code",
     "collapsed": false,
     "input": [
      "# Print the id of unlabelled tweet and the corresponding predicted label in a file\n",
      "with open('predict_unlabelled.txt', 'w') as f:\n",
      "    for i in range(0,len(tweet_id)):\n",
      "        f.write(\"%s %d\\n\" % (tweet_id[i], predicted_label[i]))"
     ],
     "language": "python",
     "metadata": {},
     "outputs": [],
     "prompt_number": 15
    },
    {
     "cell_type": "code",
     "collapsed": false,
     "input": [
      "# Calculate the error rate every 1000 tweets\n",
      "error_rate = []\n",
      "running_sum = 0\n",
      "for i in range(1,len(error)/1000+1):\n",
      "    k_0 = (i-1)*1000\n",
      "    k_1 = i*1000\n",
      "    running_sum += sum(error[k_0:k_1])\n",
      "    error_rate.append(float(running_sum)/k_1)\n",
      "    \n",
      "# error_a_bt refers to lambda = a, learning_rate =b/t\n",
      "#error_rate_0_01 = error_rate\n",
      "#error_rate_01_01 = error_rate\n",
      "#error_rate_05_01 = error_rate\n",
      "#error_rate_0_05 = error_rate\n",
      "#error_rate_0_10 = error_rate\n",
      "#error_rate_0_03t = error_rate\n",
      "#error_rate_0_10t = error_rate\n",
      "#error_rate_0_20t = error_rate\n",
      "#error_rate_0_03sqt = error_rate\n",
      "#error_rate_0_10sqt = error_rate\n",
      "error_rate_0_50sqt = error_rate"
     ],
     "language": "python",
     "metadata": {},
     "outputs": [],
     "prompt_number": 13
    },
    {
     "cell_type": "code",
     "collapsed": false,
     "input": [
      "# Plot the error rate\n",
      "import matplotlib.pyplot as plt\n",
      "fig = plt.figure()\n",
      "plt.xlabel('Total number of labelled tweets encountered')\n",
      "plt.ylabel('Error rate')\n",
      "plt.title('learn_rate = 01')\n",
      "x= range(1000,len(error),1000)\n",
      "plt.plot(x, error_rate_0_01, 'r', x, error_rate_01_01, 'g', x, error_rate_05_01,'b')\n",
      "plt.show()\n",
      "# lambda = 0 gives the lowest error rate for learning rate fixed at 0.1\n",
      "# we thus fix lambda = 0 and examine the how the learning rate affects the error rate"
     ],
     "language": "python",
     "metadata": {},
     "outputs": [
      {
       "output_type": "display_data",
       "png": "[encoded data removed]",
       "text": [
        "<matplotlib.figure.Figure at 0xdf665d0>"
       ]
      }
     ],
     "prompt_number": 53
    },
    {
     "cell_type": "code",
     "collapsed": false,
     "input": [
      "# Plot the error rate\n",
      "import matplotlib.pyplot as plt\n",
      "fig = plt.figure()\n",
      "plt.xlabel('Total number of labelled tweets encountered')\n",
      "plt.ylabel('Error rate')\n",
      "plt.title('lambda = 0')\n",
      "x= range(1000,len(error),1000)\n",
      "plt.plot(x, error_rate_0_01, 'r', x, error_rate_0_05, 'g', x, error_rate_0_10,'b')\n",
      "plt.show()\n",
      "# smallest learning_rate(0.1) gives lowest error_rate "
     ],
     "language": "python",
     "metadata": {},
     "outputs": [
      {
       "output_type": "display_data",
       "png": "[encoded data removed]",
       "text": [
        "<matplotlib.figure.Figure at 0xb43a690>"
       ]
      }
     ],
     "prompt_number": 64
    },
    {
     "cell_type": "code",
     "collapsed": false,
     "input": [
      "# Plot the error rate\n",
      "import matplotlib.pyplot as plt\n",
      "fig = plt.figure()\n",
      "plt.xlabel('Total number of labelled tweets encountered')\n",
      "plt.ylabel('Error rate')\n",
      "plt.title('lambda = 0, variable learn rate')\n",
      "x = range(1000,len(error),1000)\n",
      "plt.plot(x, error_rate_0_03t, 'r-',x, error_rate_0_10t, 'g-',x, error_rate_0_20t, 'b-',)\n",
      "plt.show()"
     ],
     "language": "python",
     "metadata": {},
     "outputs": [
      {
       "output_type": "display_data",
       "png": "[encoded data removed]",
       "text": [
        "<matplotlib.figure.Figure at 0x3f46850>"
       ]
      }
     ],
     "prompt_number": 18
    },
    {
     "cell_type": "code",
     "collapsed": false,
     "input": [
      "# Plot the error rate\n",
      "import matplotlib.pyplot as plt\n",
      "fig = plt.figure()\n",
      "plt.xlabel('Total number of labelled tweets encountered')\n",
      "plt.ylabel('Error rate')\n",
      "plt.title('lambda = 0, variable learn rate')\n",
      "x = range(1000,len(error),1000)\n",
      "plt.plot(x, error_rate_0_03sqt, 'r-',x, error_rate_0_10sqt, 'g-',x, error_rate_0_50sqt, 'b-',)\n",
      "plt.show()"
     ],
     "language": "python",
     "metadata": {},
     "outputs": [
      {
       "output_type": "display_data",
       "png": "[encoded data removed]",
       "text": [
        "<matplotlib.figure.Figure at 0x4462950>"
       ]
      }
     ],
     "prompt_number": 14
    },
    {
     "cell_type": "raw",
     "metadata": {},
     "source": [
      "The lowest error rate (~0.5%) is thus achieved with learning rate = 0.1, lambda = 0."
     ]
    },
    {
     "cell_type": "code",
     "collapsed": false,
     "input": [
      "# check what date the spike at 1 000 000 tweets occurs on.\n",
      "counter = 0\n",
      "for i in range(1,50):\n",
      "    s = wishes_labelled.subsets()[i]\n",
      "    print s\n",
      "    for w in wishes_labelled.iter(s):\n",
      "        counter += 1\n",
      "    print counter\n",
      "    \n",
      "# new year's eve starts at 970 000 tweets."
     ],
     "language": "python",
     "metadata": {},
     "outputs": [
      {
       "output_type": "stream",
       "stream": "stdout",
       "text": [
        "labelled-wish-2012-12-02.json\n",
        "748\n",
        "labelled-wish-2012-12-03.json"
       ]
      },
      {
       "output_type": "stream",
       "stream": "stdout",
       "text": [
        "\n",
        "1740\n",
        "labelled-wish-2012-12-04.json"
       ]
      },
      {
       "output_type": "stream",
       "stream": "stdout",
       "text": [
        "\n",
        "2693\n",
        "labelled-wish-2012-12-05.json"
       ]
      },
      {
       "output_type": "stream",
       "stream": "stdout",
       "text": [
        "\n",
        "3773\n",
        "labelled-wish-2012-12-06.json"
       ]
      },
      {
       "output_type": "stream",
       "stream": "stdout",
       "text": [
        "\n",
        "6798\n",
        "labelled-wish-2012-12-07.json"
       ]
      },
      {
       "output_type": "stream",
       "stream": "stdout",
       "text": [
        "\n",
        "8904\n",
        "labelled-wish-2012-12-08.json"
       ]
      },
      {
       "output_type": "stream",
       "stream": "stdout",
       "text": [
        "\n",
        "10021\n",
        "labelled-wish-2012-12-09.json"
       ]
      },
      {
       "output_type": "stream",
       "stream": "stdout",
       "text": [
        "\n",
        "11050\n",
        "labelled-wish-2012-12-10.json"
       ]
      },
      {
       "output_type": "stream",
       "stream": "stdout",
       "text": [
        "\n",
        "12100\n",
        "labelled-wish-2012-12-11.json"
       ]
      },
      {
       "output_type": "stream",
       "stream": "stdout",
       "text": [
        "\n",
        "13372\n",
        "labelled-wish-2012-12-12.json"
       ]
      },
      {
       "output_type": "stream",
       "stream": "stdout",
       "text": [
        "\n",
        "14981\n",
        "labelled-wish-2012-12-13.json"
       ]
      },
      {
       "output_type": "stream",
       "stream": "stdout",
       "text": [
        "\n",
        "16415\n",
        "labelled-wish-2012-12-14.json"
       ]
      },
      {
       "output_type": "stream",
       "stream": "stdout",
       "text": [
        "\n",
        "17869\n",
        "labelled-wish-2012-12-15.json"
       ]
      },
      {
       "output_type": "stream",
       "stream": "stdout",
       "text": [
        "\n",
        "19094\n",
        "labelled-wish-2012-12-16.json"
       ]
      },
      {
       "output_type": "stream",
       "stream": "stdout",
       "text": [
        "\n",
        "20763\n",
        "labelled-wish-2012-12-17.json"
       ]
      },
      {
       "output_type": "stream",
       "stream": "stdout",
       "text": [
        "\n",
        "22772\n",
        "labelled-wish-2012-12-18.json"
       ]
      },
      {
       "output_type": "stream",
       "stream": "stdout",
       "text": [
        "\n",
        "24925\n",
        "labelled-wish-2012-12-19.json"
       ]
      },
      {
       "output_type": "stream",
       "stream": "stdout",
       "text": [
        "\n",
        "39076"
       ]
      },
      {
       "output_type": "stream",
       "stream": "stdout",
       "text": [
        "\n",
        "labelled-wish-2012-12-20.json"
       ]
      },
      {
       "output_type": "stream",
       "stream": "stdout",
       "text": [
        "\n",
        "70068"
       ]
      },
      {
       "output_type": "stream",
       "stream": "stdout",
       "text": [
        "\n",
        "labelled-wish-2012-12-21.json"
       ]
      },
      {
       "output_type": "stream",
       "stream": "stdout",
       "text": [
        "\n",
        "98076"
       ]
      },
      {
       "output_type": "stream",
       "stream": "stdout",
       "text": [
        "\n",
        "labelled-wish-2012-12-22.json"
       ]
      },
      {
       "output_type": "stream",
       "stream": "stdout",
       "text": [
        "\n",
        "128367"
       ]
      },
      {
       "output_type": "stream",
       "stream": "stdout",
       "text": [
        "\n",
        "labelled-wish-2012-12-23.json"
       ]
      },
      {
       "output_type": "stream",
       "stream": "stdout",
       "text": [
        "\n",
        "172956"
       ]
      },
      {
       "output_type": "stream",
       "stream": "stdout",
       "text": [
        "\n",
        "labelled-wish-2012-12-24.json"
       ]
      },
      {
       "output_type": "stream",
       "stream": "stdout",
       "text": [
        "\n",
        "277660"
       ]
      },
      {
       "output_type": "stream",
       "stream": "stdout",
       "text": [
        "\n",
        "labelled-wish-2012-12-25.json"
       ]
      },
      {
       "output_type": "stream",
       "stream": "stdout",
       "text": [
        "\n",
        "357290"
       ]
      },
      {
       "output_type": "stream",
       "stream": "stdout",
       "text": [
        "\n",
        "labelled-wish-2012-12-26.json"
       ]
      },
      {
       "output_type": "stream",
       "stream": "stdout",
       "text": [
        "\n",
        "420737"
       ]
      },
      {
       "output_type": "stream",
       "stream": "stdout",
       "text": [
        "\n",
        "labelled-wish-2012-12-27.json"
       ]
      },
      {
       "output_type": "stream",
       "stream": "stdout",
       "text": [
        "\n",
        "494228"
       ]
      },
      {
       "output_type": "stream",
       "stream": "stdout",
       "text": [
        "\n",
        "labelled-wish-2012-12-28.json"
       ]
      },
      {
       "output_type": "stream",
       "stream": "stdout",
       "text": [
        "\n",
        "583843"
       ]
      },
      {
       "output_type": "stream",
       "stream": "stdout",
       "text": [
        "\n",
        "labelled-wish-2012-12-29.json"
       ]
      },
      {
       "output_type": "stream",
       "stream": "stdout",
       "text": [
        "\n",
        "704964"
       ]
      },
      {
       "output_type": "stream",
       "stream": "stdout",
       "text": [
        "\n",
        "labelled-wish-2012-12-30.json"
       ]
      },
      {
       "output_type": "stream",
       "stream": "stdout",
       "text": [
        "\n",
        "927023"
       ]
      },
      {
       "output_type": "stream",
       "stream": "stdout",
       "text": [
        "\n",
        "labelled-wish-2012-12-31_1.json"
       ]
      },
      {
       "output_type": "stream",
       "stream": "stdout",
       "text": [
        "\n",
        "1470717"
       ]
      },
      {
       "output_type": "stream",
       "stream": "stdout",
       "text": [
        "\n",
        "labelled-wish-2012-12-31_2.json"
       ]
      },
      {
       "output_type": "stream",
       "stream": "stdout",
       "text": [
        "\n",
        "2019407"
       ]
      },
      {
       "output_type": "stream",
       "stream": "stdout",
       "text": [
        "\n",
        "labelled-wish-2012-12-31_3.json"
       ]
      },
      {
       "output_type": "stream",
       "stream": "stdout",
       "text": [
        "\n",
        "2345575"
       ]
      },
      {
       "output_type": "stream",
       "stream": "stdout",
       "text": [
        "\n",
        "labelled-wish-2013-01-01.json"
       ]
      },
      {
       "output_type": "stream",
       "stream": "stdout",
       "text": [
        "\n",
        "3122696"
       ]
      },
      {
       "output_type": "stream",
       "stream": "stdout",
       "text": [
        "\n",
        "labelled-wish-2013-01-02.json"
       ]
      },
      {
       "output_type": "stream",
       "stream": "stdout",
       "text": [
        "\n",
        "3303506"
       ]
      },
      {
       "output_type": "stream",
       "stream": "stdout",
       "text": [
        "\n",
        "labelled-wish-2013-01-03.json"
       ]
      },
      {
       "output_type": "stream",
       "stream": "stdout",
       "text": [
        "\n",
        "3390055"
       ]
      },
      {
       "output_type": "stream",
       "stream": "stdout",
       "text": [
        "\n",
        "labelled-wish-2013-01-04.json"
       ]
      },
      {
       "output_type": "stream",
       "stream": "stdout",
       "text": [
        "\n",
        "3447390"
       ]
      },
      {
       "output_type": "stream",
       "stream": "stdout",
       "text": [
        "\n",
        "labelled-wish-2013-01-05.json"
       ]
      },
      {
       "output_type": "stream",
       "stream": "stdout",
       "text": [
        "\n",
        "3484922"
       ]
      },
      {
       "output_type": "stream",
       "stream": "stdout",
       "text": [
        "\n",
        "labelled-wish-2013-01-06.json"
       ]
      },
      {
       "output_type": "stream",
       "stream": "stdout",
       "text": [
        "\n",
        "3516555"
       ]
      },
      {
       "output_type": "stream",
       "stream": "stdout",
       "text": [
        "\n",
        "labelled-wish-2013-01-08.json"
       ]
      },
      {
       "output_type": "stream",
       "stream": "stdout",
       "text": [
        "\n",
        "3576666"
       ]
      },
      {
       "output_type": "stream",
       "stream": "stdout",
       "text": [
        "\n",
        "labelled-wish-2013-01-09.json"
       ]
      },
      {
       "output_type": "stream",
       "stream": "stdout",
       "text": [
        "\n",
        "3595456"
       ]
      },
      {
       "output_type": "stream",
       "stream": "stdout",
       "text": [
        "\n",
        "labelled-wish-2013-01-10.json"
       ]
      },
      {
       "output_type": "stream",
       "stream": "stdout",
       "text": [
        "\n",
        "3611388"
       ]
      },
      {
       "output_type": "stream",
       "stream": "stdout",
       "text": [
        "\n",
        "labelled-wish-2013-01-11.json"
       ]
      },
      {
       "output_type": "stream",
       "stream": "stdout",
       "text": [
        "\n",
        "3623272"
       ]
      },
      {
       "output_type": "stream",
       "stream": "stdout",
       "text": [
        "\n",
        "labelled-wish-2013-01-12.json"
       ]
      },
      {
       "output_type": "stream",
       "stream": "stdout",
       "text": [
        "\n",
        "3633274"
       ]
      },
      {
       "output_type": "stream",
       "stream": "stdout",
       "text": [
        "\n",
        "labelled-wish-2013-01-13.json"
       ]
      },
      {
       "output_type": "stream",
       "stream": "stdout",
       "text": [
        "\n",
        "3643323"
       ]
      },
      {
       "output_type": "stream",
       "stream": "stdout",
       "text": [
        "\n",
        "labelled-wish-2013-01-14.json"
       ]
      },
      {
       "output_type": "stream",
       "stream": "stdout",
       "text": [
        "\n",
        "3654543"
       ]
      },
      {
       "output_type": "stream",
       "stream": "stdout",
       "text": [
        "\n",
        "labelled-wish-2013-01-15.json"
       ]
      },
      {
       "output_type": "stream",
       "stream": "stdout",
       "text": [
        "\n",
        "3664503"
       ]
      },
      {
       "output_type": "stream",
       "stream": "stdout",
       "text": [
        "\n",
        "labelled-wish-2013-01-16.json"
       ]
      },
      {
       "output_type": "stream",
       "stream": "stdout",
       "text": [
        "\n",
        "3673089"
       ]
      },
      {
       "output_type": "stream",
       "stream": "stdout",
       "text": [
        "\n",
        "labelled-wish-2013-01-17.json"
       ]
      },
      {
       "output_type": "stream",
       "stream": "stdout",
       "text": [
        "\n",
        "3681841"
       ]
      },
      {
       "output_type": "stream",
       "stream": "stdout",
       "text": [
        "\n",
        "labelled-wish-2013-01-18.json"
       ]
      },
      {
       "output_type": "stream",
       "stream": "stdout",
       "text": [
        "\n",
        "3688495"
       ]
      },
      {
       "output_type": "stream",
       "stream": "stdout",
       "text": [
        "\n"
       ]
      }
     ],
     "prompt_number": 16
    },
    {
     "cell_type": "code",
     "collapsed": false,
     "input": [],
     "language": "python",
     "metadata": {},
     "outputs": []
    }
   ],
   "metadata": {}
  }
 ]
}
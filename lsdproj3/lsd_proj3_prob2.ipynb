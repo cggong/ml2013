{
 "metadata": {
  "name": "lsd_proj3_prob1 (1)"
 },
 "nbformat": 3,
 "nbformat_minor": 0,
 "worksheets": [
  {
   "cells": [
    {
     "cell_type": "heading",
     "level": 3,
     "metadata": {},
     "source": "Problem 1 for project 3. This is done by Zichong Kao and Sen Tian."
    },
    {
     "cell_type": "code",
     "collapsed": false,
     "input": "import DAL\ncrime = DAL.create('crime')\ncrime_list = crime.get_crime_list()\n# The following can be slow\ncrime_counts = crime.get_crime_counts()\nregion_list = crime.get_region_list()",
     "language": "python",
     "metadata": {},
     "outputs": [],
     "prompt_number": 1
    },
    {
     "cell_type": "code",
     "collapsed": false,
     "input": "import numpy as np\n\n# function of Gaussian Kernel\ndef gaussian_kernel(x, y, bandwidth):\n    return exp(-float(np.linalg.norm(x-y)**2)/(2*bandwidth**2))/(sqrt(2*pi)*bandwidth)+1e-12\n\n# function of Epanechnikov kernel\ndef epanech_kernel(x, y, bandwidth):\n    if (np.linalg.norm(x-y) <= bandwidth):\n        return 0.75 * (1-float(np.linalg.norm((x-y))/bandwidth)**2)\n    else:\n        return 1e-12\n\n# function of Boxcar kernel\ndef boxcar_kernel(x, y, bandwidth):\n    if (np.linalg.norm(x-y) <= bandwidth):\n        return float(1) / (2*bandwidth)\n    else:\n        return 1e-12",
     "language": "python",
     "metadata": {},
     "outputs": [],
     "prompt_number": 2
    },
    {
     "cell_type": "code",
     "collapsed": false,
     "input": "# bandwidth parameter in time\ngamma = 90\n# bandwidth parameter in space\nsigma = 0.001\n# week of prediction\nT = 643\n\n# Kernel matrix for time\n# kernel_time = np.diag(map(lambda x: gaussian_kernel(x, T, gamma), range(0,T)))\nkernel_time = np.diag(map(lambda x: epanech_kernel(x, T, gamma), range(0,T)))\n# kernel_time = np.diag(map(lambda x: boxcar_kernel(x, T, gamma), range(0,T)))\n\n# Kernel matrix for space\nkernel_space = numpy.zeros(2985**2).reshape((2985, 2985)) # initialization\nfor i in range(0,2985):\n    loc_i = np.array([region_list[i][1], region_list[i][0]])\n    for j in range(i,2985):\n        loc_j = np.array([region_list[j][1], region_list[j][0]])\n        kernel_temp = gaussian_kernel(loc_i, loc_j, sigma)\n        #kernel_temp = epanech_kernel(loc_i, loc_j, sigma)\n        # kernel_temp = boxcar_kernel(loc_i, loc_j, sigma)\n        kernel_space[i,j] = kernel_temp\n        kernel_space[j,i] = kernel_temp",
     "language": "python",
     "metadata": {},
     "outputs": [],
     "prompt_number": 54
    },
    {
     "cell_type": "code",
     "collapsed": false,
     "input": "# create a dictionary to store the values of estimated lambda\nimport scipy\nlambda_est = []\nlikelihood = 0\n# iterate through all the crimes\nfor k in range(0,10):\n    # form the matrix of crime counts, (dimension is 643*2985)\n    V = np.array(map(lambda x: crime_counts[(x,k)], range(0,2985))).transpose()\n    # calculate the numerator in the formula for computing estimated lambda\n    # here lambda_numerator is a vector (dimension is 2985*1) \n    lambda_numerator = np.dot(np.dot(np.dot(kernel_time,V),kernel_space).transpose(), np.ones(T))\n    # calculate the denominator in the formula for computing estimated lambda\n    # here lambda_denominator is a diagonal matrix (dimension is 2985*2985) \n    lambda_denominator = np.diag(np.trace(kernel_time) * np.dot(kernel_space, np.ones(2985)))\n    # calculate the estimated lambda (dimention 2985*1) and append them to a list when k changes from 0 to 10 by 1\n    lambda_est.append(np.dot(np.linalg.inv(lambda_denominator), lambda_numerator))\n    # calculate the log-likelihood by using data from week 642\n    likelihood += - sum(lambda_est[k]) + np.dot(log(lambda_est[k]), V[642]) - sum(log(scipy.misc.factorial(V[642])))\nprint likelihood",
     "language": "python",
     "metadata": {},
     "outputs": [
      {
       "output_type": "stream",
       "stream": "stdout",
       "text": "-7536.28696375\n"
      }
     ],
     "prompt_number": 58
    },
    {
     "cell_type": "code",
     "collapsed": false,
     "input": "# output the estimated lambda in files \nwith open('lsd_proj3_prob1_battery.txt', 'w') as f:\n    for i in range(0,2985):\n        f.write(\"%d %f\\n\" % (i, lambda_est[0][i]))\nwith open('lsd_proj3_prob1_burglary.txt', 'w') as f:\n    for i in range(0,2985):\n        f.write(\"%d %f\\n\" % (i, lambda_est[1][i]))\nwith open('lsd_proj3_prob1_criminal-damage.txt', 'w') as f:\n    for i in range(0,2985):\n        f.write(\"%d %f\\n\" % (i, lambda_est[2][i]))\nwith open('lsd_proj3_prob1_weapons-violation.txt', 'w') as f:\n    for i in range(0,2985):\n        f.write(\"%d %f\\n\" % (i, lambda_est[3][i]))\nwith open('lsd_proj3_prob1_criminal-trespass.txt', 'w') as f:\n    for i in range(0,2985):\n        f.write(\"%d %f\\n\" % (i, lambda_est[4][i]))\nwith open('lsd_proj3_prob1_theft.txt', 'w') as f:\n    for i in range(0,2985):\n        f.write(\"%d %f\\n\" % (i, lambda_est[5][i]))\nwith open('lsd_proj3_prob1_narcotics.txt', 'w') as f:\n    for i in range(0,2985):\n        f.write(\"%d %f\\n\" % (i, lambda_est[6][i]))\nwith open('lsd_proj3_prob1_prostitution.txt', 'w') as f:\n    for i in range(0,2985):\n        f.write(\"%d %f\\n\" % (i, lambda_est[7][i]))\nwith open('lsd_proj3_prob1_motor-vehicle-theft.txt', 'w') as f:\n    for i in range(0,2985):\n        f.write(\"%d %f\\n\" % (i, lambda_est[8][i]))\nwith open('lsd_proj3_prob1_deceptive-practice.txt', 'w') as f:\n    for i in range(0,2985):\n        f.write(\"%d %f\\n\" % (i, lambda_est[9][i]))",
     "language": "python",
     "metadata": {},
     "outputs": [],
     "prompt_number": 65
    },
    {
     "cell_type": "code",
     "collapsed": false,
     "input": "for k in range(0,10):\n    # form the matrix of crime counts, (dimension is 643*2985)\n    V = np.array(map(lambda x: crime_counts[(x,k)], range(0,2985))).transpose()\n    errors = abs(lambda_est[k]-V[642])\n    print \"k:\",k,crime_list[k]\n    print \"Mean:\", mean(errors)\n    print \"No. of errors:\", sum(map(lambda x : x>0.5, errors)),\"out of\",len(errors)\n    print \"Maximum error:\", max(errors)",
     "language": "python",
     "metadata": {},
     "outputs": [
      {
       "output_type": "stream",
       "stream": "stdout",
       "text": "k: 0 BATTERY\nMean: 0.332377360547\nNo. of errors: 698 out of 2985\nMaximum error: 3.75958739867\nk:"
      },
      {
       "output_type": "stream",
       "stream": "stdout",
       "text": " 1 BURGLARY\nMean: 0.169485453485\nNo. of errors: 218 out of 2985\nMaximum error: 2.764256027\nk:"
      },
      {
       "output_type": "stream",
       "stream": "stdout",
       "text": " 2 CRIMINAL DAMAGE\nMean: 0.254956049453\nNo. of errors: 420 out of 2985\nMaximum error: 11.7815627598\nk:"
      },
      {
       "output_type": "stream",
       "stream": "stdout",
       "text": " 3 WEAPONS VIOLATION\nMean: 0.0379302345703\nNo. of errors: 50 out of 2985\nMaximum error: 1.92217637746\nk:"
      },
      {
       "output_type": "stream",
       "stream": "stdout",
       "text": " 4 CRIMINAL TRESPASS\nMean: 0.0709349037883\nNo. of errors: 104 out of 2985\nMaximum error: 2.88597597738\nk:"
      },
      {
       "output_type": "stream",
       "stream": "stdout",
       "text": " 5 THEFT\nMean: 0.393310297394\nNo. of errors: 817 out of 2985\nMaximum error: 5.45570319463\nk:"
      },
      {
       "output_type": "stream",
       "stream": "stdout",
       "text": " 6 NARCOTICS\nMean: 0.212666622098\nNo. of errors: 392 out of 2985\nMaximum error: 4.44769137895\nk:"
      },
      {
       "output_type": "stream",
       "stream": "stdout",
       "text": " 7 PROSTITUTION\nMean: 0.0190893979831\nNo. of errors: 30 out of 2985\nMaximum error: 3.42355777447\nk:"
      },
      {
       "output_type": "stream",
       "stream": "stdout",
       "text": " 8 MOTOR VEHICLE THEFT\nMean: 0.130467045955\nNo. of errors: 130 out of 2985\nMaximum error: 1.94259653878\nk:"
      },
      {
       "output_type": "stream",
       "stream": "stdout",
       "text": " 9 DECEPTIVE PRACTICE\nMean: 0.0906575154658\nNo. of errors: 123 out of 2985\nMaximum error: 4.4181817929\n"
      }
     ],
     "prompt_number": 11
    },
    {
     "cell_type": "heading",
     "level": 3,
     "metadata": {},
     "source": "Part 2"
    },
    {
     "cell_type": "code",
     "collapsed": false,
     "input": "# Using the following analysis, note that crimes 0,1,2,5 are seasonal and the rest are not\nV = np.array(map(lambda x: crime_counts[(x,9)], range(0,2985))).transpose()\navgs = map(mean,V)\nplot(avgs)",
     "language": "python",
     "metadata": {},
     "outputs": [
      {
       "output_type": "pyout",
       "prompt_number": 7,
       "text": "[<matplotlib.lines.Line2D at 0x979c590>]"
      },
      {
       "output_type": "display_data",
       "png": "[encoded data removed]",
       "text": "<matplotlib.figure.Figure at 0xb98f510>"
      }
     ],
     "prompt_number": 7
    },
    {
     "cell_type": "code",
     "collapsed": false,
     "input": "# new model for 0,1,2,5 only looks at +-4 weeks every year\ntimeindex = []\ntimeindex+=[641,640,639]\nfor year in range(1,13):\n    timeindex.append(642-year*52+4)\n    timeindex.append(642-year*52+3)\n    timeindex.append(642-year*52+2)\n    timeindex.append(642-year*52+1)\n    timeindex.append(642-year*52)\n    timeindex.append(642-year*52-1)\n    timeindex.append(642-year*52-2)\n    timeindex.append(642-year*52-3)\n    timeindex.append(642-year*52-4)\ntimeindex=sorted(timeindex)\n#print timeindex",
     "language": "python",
     "metadata": {},
     "outputs": [],
     "prompt_number": 8
    },
    {
     "cell_type": "code",
     "collapsed": false,
     "input": "def pull_entries(region,crimetype):\n    full = crime_counts[(region,crimetype)]\n    seasonal = [full[i] for i in timeindex]\n    return seasonal    ",
     "language": "python",
     "metadata": {},
     "outputs": [],
     "prompt_number": 9
    },
    {
     "cell_type": "code",
     "collapsed": false,
     "input": "kernel_time_new = np.diag(map(lambda x: epanech_kernel(x, T, 250), timeindex))\n#shape(kernel_time_new)",
     "language": "python",
     "metadata": {},
     "outputs": [],
     "prompt_number": 55
    },
    {
     "cell_type": "code",
     "collapsed": false,
     "input": "lambda_est = range(10)\nfor k in [0,1,2,5]:\n    V = np.array(map(lambda x: pull_entries(x,k), range(0,2985))).transpose()\n    lambda_numerator = np.dot(np.dot(np.dot(kernel_time_new,V),kernel_space).transpose(), np.ones(len(timeindex)))\n    lambda_denominator = np.diag(np.trace(kernel_time_new) * np.dot(kernel_space, np.ones(2985)))\n    lambda_est[k]=np.dot(np.linalg.inv(lambda_denominator), lambda_numerator)\n    #lambda_est[k] = map(mean,V.transpose())\n\n# these crimes appear not to be seasonal. We use the full time data\nfor k in [3,4,6,7,8,9]:\n    V = np.array(map(lambda x: crime_counts[(x,k)], range(0,2985))).transpose()\n    lambda_numerator = np.dot(np.dot(np.dot(kernel_time,V),kernel_space).transpose(), np.ones(T))\n    lambda_denominator = np.diag(np.trace(kernel_time) * np.dot(kernel_space, np.ones(2985)))\n    lambda_est[k]=np.dot(np.linalg.inv(lambda_denominator), lambda_numerator)",
     "language": "python",
     "metadata": {},
     "outputs": [],
     "prompt_number": 66
    },
    {
     "cell_type": "code",
     "collapsed": false,
     "input": "likelihood=0\nfor k in range(10):\n    V = np.array(map(lambda x: crime_counts[(x,k)], range(0,2985))).transpose()\n    likelihood += - sum(lambda_est[k]) + np.dot(log(array(lambda_est[k])+1e-12), V[642]) - sum(log(scipy.misc.factorial(V[642])))\nprint likelihood\n# in the end, the likelihood of model 1 is still better. We decided to use it instead.",
     "language": "python",
     "metadata": {},
     "outputs": [
      {
       "output_type": "stream",
       "stream": "stdout",
       "text": "-8030.37697598\n"
      }
     ],
     "prompt_number": 67
    },
    {
     "cell_type": "code",
     "collapsed": false,
     "input": "# prepare cdfs. We use a Poisson model\nfrom scipy import stats\nstorage = {}\nfor k in range(10):\n    k_matrix = []\n    for i in range(len(lambda_est[k])):\n        k_matrix.append(map(lambda x: log(scipy.stats.poisson.cdf(x,lambda_est[k][i])),range(21)))\n    storage[k] = k_matrix",
     "language": "python",
     "metadata": {},
     "outputs": [],
     "prompt_number": 63
    },
    {
     "cell_type": "code",
     "collapsed": false,
     "input": "# output the log cdfs in files \nwith open('lsd_proj3_prob2_battery.txt', 'w') as f:\n    for i in range(0,2985):\n        f.write(\"%d\" % i)\n        for j in range(21):\n            f.write(\", %f\" % storage[0][i][j])\n        f.write(\"\\n\")\nwith open('lsd_proj3_prob2_burglary.txt', 'w') as f:\n    for i in range(0,2985):\n        f.write(\"%d\" % i)\n        for j in range(21):\n            f.write(\", %f\" % storage[1][i][j])\n        f.write(\"\\n\")\nwith open('lsd_proj3_prob2_criminal-damage.txt', 'w') as f:\n    for i in range(0,2985):\n        f.write(\"%d\" % i)\n        for j in range(21):\n            f.write(\", %f\" % storage[2][i][j])\n        f.write(\"\\n\")\nwith open('lsd_proj3_prob2_weapons-violation.txt', 'w') as f:\n    for i in range(0,2985):\n        f.write(\"%d\" % i)\n        for j in range(21):\n            f.write(\", %f\" % storage[3][i][j])\n        f.write(\"\\n\")\nwith open('lsd_proj3_prob2_criminal-trespass.txt', 'w') as f:\n    for i in range(0,2985):\n        f.write(\"%d\" % i)\n        for j in range(21):\n            f.write(\", %f\" % storage[4][i][j])\n        f.write(\"\\n\")\nwith open('lsd_proj3_prob2_theft.txt', 'w') as f:\n    for i in range(0,2985):\n        f.write(\"%d\" % i)\n        for j in range(21):\n            f.write(\", %f\" % storage[5][i][j])\n        f.write(\"\\n\")\nwith open('lsd_proj3_prob2_narcotics.txt', 'w') as f:\n    for i in range(0,2985):\n        f.write(\"%d\" % i)\n        for j in range(21):\n            f.write(\", %f\" % storage[6][i][j])\n        f.write(\"\\n\")\nwith open('lsd_proj3_prob2_prostitution.txt', 'w') as f:\n    for i in range(0,2985):\n        f.write(\"%d\" % i)\n        for j in range(21):\n            f.write(\", %f\" % storage[7][i][j])\n        f.write(\"\\n\")\nwith open('lsd_proj3_prob2_motor-vehicle-theft.txt', 'w') as f:\n    for i in range(0,2985):\n        f.write(\"%d\" % i)\n        for j in range(21):\n            f.write(\", %f\" % storage[8][i][j])\n        f.write(\"\\n\")\nwith open('lsd_proj3_prob2_deceptive-practice.txt', 'w') as f:\n    for i in range(0,2985):\n        f.write(\"%d\" % i)\n        for j in range(21):\n            f.write(\", %f\" % storage[9][i][j])\n        f.write(\"\\n\")",
     "language": "python",
     "metadata": {},
     "outputs": [],
     "prompt_number": 64
    },
    {
     "cell_type": "code",
     "collapsed": false,
     "input": "",
     "language": "python",
     "metadata": {},
     "outputs": []
    }
   ],
   "metadata": {}
  }
 ]
}
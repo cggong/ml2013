{
 "metadata": {
  "name": "lsd_project1_prob6"
 },
 "nbformat": 3,
 "nbformat_minor": 0,
 "worksheets": [
  {
   "cells": [
    {
     "cell_type": "heading",
     "level": 3,
     "metadata": {},
     "source": "Problems 5 and 6, Project 1. Zi Chong Kao and Sen Tian"
    },
    {
     "cell_type": "code",
     "collapsed": false,
     "input": "#verify cluster connection\nfrom IPython.parallel import Client\nrc = Client()\nprint rc.ids\ndview = rc[:]",
     "language": "python",
     "metadata": {},
     "outputs": [
      {
       "output_type": "stream",
       "stream": "stdout",
       "text": "[0, 1, 2, 3]\n"
      }
     ],
     "prompt_number": 3
    },
    {
     "cell_type": "heading",
     "level": 3,
     "metadata": {},
     "source": "Prepare id list and distance matrix"
    },
    {
     "cell_type": "code",
     "collapsed": false,
     "input": "import numpy\nimport DAL\n\n# We gonna work with 2000 images of laptop and 2000 images of socks\ntinyimages = DAL.create('tinyimages')\nlaptop_ids = tinyimages.search('laptop', 2000)\nsock_ids = tinyimages.search('sock', 2000)\nids = laptop_ids + sock_ids\n\ndef gist(index):\n    import DAL\n    import scipy\n    import leargist\n    tinyimages = DAL.create('tinyimages')\n    img = scipy.misc.toimage(tinyimages.byid(index).reshape(32,32,3, order=\"F\").copy())\n    return leargist.color_gist(img)\n\n# calculate our gists\ngists = dview.map_sync(gist, ids)\ndview['gists'] = gists\n\n# Standardize the vectors to have mean zero and variance one\nfor i in range(4000):\n    mean = numpy.mean(gists[i])\n    std = numpy.std(gists[i])\n    # necessary since ids[281] for sock/laptop is all black and has gist 0,...,0. \n    # Avoid dividing by std = 0.\n    if std==0:\n        gists[i] -= mean\n    else:\n        gists[i] = (gists[i]-mean)/std\n\n# 'gists' is a list of 4000 vectors with zero mean and unit veriance",
     "language": "python",
     "metadata": {},
     "outputs": [],
     "prompt_number": 5
    },
    {
     "cell_type": "code",
     "collapsed": false,
     "input": "# euc_dist is a matrix including the Euclidean distance between pair of images\neuc_dist = numpy.zeros(16000000).reshape((4000, 4000))\n\nfor i in range(4000):\n    for j in range(i+1,4000):\n        dist = numpy.linalg.norm(gists[i]-gists[j])\n        euc_dist[i,j] = dist\n        euc_dist[j,i] = dist\n\n#dview['euc_dist'] = euc_dist",
     "language": "python",
     "metadata": {},
     "outputs": [],
     "prompt_number": 6
    },
    {
     "cell_type": "code",
     "collapsed": false,
     "input": "true_sock = [65511787,65511788,65511789,65511790,65511791,65511793,65511796,65511799,65511800,65511801,65511803,65511805,65511806,65511809,65511810,65511814,65511815,65511818,65511819,65513714,65511822,65511823,65511827,65511828,65511829,65511830,65511833,65511843,65511848,65511853,65511855,65511858,65511859,65511863,65511902,65511907,65511910,65511917,65511930,65511946,65511948,65511955,65511957,65511963,65511973,65511974,65511979,65511991,65511993,65511994,65511995,65512008,65512016,65512017,65512019,65512022,65512029,65512035,65512039,65512040,65512042,65512062,65512064,65512069,65512073,65512075,65512076,65512077,65512080,65512085,65512091,65512121,65512128,65512138,65512142,65512145,65512247,65512070,65512174,65512180,65512190,65512193,65512194,65512196,65512197,65512215,65512216,65512227,65512228,65512237,65512240,65512242,65512244,65512255,65512267,65512270,65512272,65512274,65512276,65512286]\ntrue_laptop = [39558021, 39558023, 39558024, 39558025, 39558027, 39558036, 39558038, 39558041, 39558042, 39558043, 39558044, 39558045, 39558046, 39558049, 39558050, 39558051, 39558056, 39558061, 39558062, 39558068, 39558074, 39558075, 39558077, 39558080, 39558081, 39558090, 39558110, 39558125, 39558132, 39558152, 39558153, 39558154, 39558157, 39558159, 39558168, 39558180, 39558183, 39558203, 39558204, 39558205, 39558206, 39558213, 39558215, 39558327, 39558336, 39558340, 39558342, 39558345, 39558348, 39558349, 39558355, 39558384, 39558387, 39558388, 39558407, 39558414, 39558417, 39558425, 39558426, 39558428, 39558434, 39558437, 39558439, 39558441, 39558443, 39558444, 39558447, 39558490, 39558507, 39558514, 39558516, 39558517, 39558518, 39558520, 39558521, 39558525, 39558532, 39558536, 39558539, 39558565, 39558571, 39558595, 39558596, 39558597, 39558621, 39558622, 39558645, 39558688, 39558694, 39558697, 39558699, 39558700, 39558713, 39558742, 39558747, 39558766, 39558772, 39558777, 39558791, 39559935]\ntrue_rainbow = [57274628, 57274623, 57274624, 57274616, 57274617, 57274606, 57274600, 57274598, 57274588, 57274567, 57274568, 57274562, 57274564, 57274540, 57274541, 57274537, 57274533, 57274528, 57274529, 57274525, 57274508, 57274509, 57274510, 57274511, 57274512, 57274513, 57274514, 57274515, 57274516, 57274517, 57274503, 57274504, 57274505, 57274506, 57274500, 57274501, 57274494, 57274495, 57274491, 57274482, 57274484, 57274487, 57274476, 57274478, 57274480, 57274469, 57274470, 57274471, 57274472, 57274473, 57274465, 57274466, 57274442, 57274443, 57274446, 57274447, 57274448, 57274430, 57274431, 57274432, 57274433, 57274434, 57274435, 57274436, 57274437, 57274438, 57274439, 57274440, 57274415, 57274416, 57274417, 57274418, 57274419, 57274420, 57274421, 57274422, 57274423, 57274424, 57274425, 57274426, 57274427, 57274428, 57274407, 57274409, 57274410, 57274411, 57274412, 57274413, 57274404, 57274405, 57274399, 57274397, 57274389, 57274390, 57274391, 57274392, 57274393, 57274394, 57274395, 57274396]\ntrue_banana = [5319166, 5319168, 5319173, 5319174, 5319174, 5319178, 5319179, 5319186, 5319189, 5319191, 5319194, 5319195, 5319208, 5319212, 5319213, 5319214, 5319215, 5319216, 5319219, 5319220, 5319224, 5319240, 5319241, 5319296, 5319298, 5319305, 5319306, 5319309, 5319313, 5319336, 5319337, 5319338, 5319339, 5319340, 5319341, 5319349, 5319350, 5319351, 5319352, 5319357, 5319358, 5319390, 5319415, 5319416, 5319437, 5319460, 5319461, 5319464, 5319469, 5319470, 5319472, 5319474, 5319476, 5319480, 5319486, 5319488, 5319491, 5319495, 5319505, 5319508, 5319513, 5319514, 5319525, 5319533, 5319539, 5319544, 5319554, 5319563, 5319565, 5319592, 5319593, 5319594, 5319597, 5319600, 5319601, 5319605, 5319608, 5319612, 5319613, 5319666, 5319671, 5319681, 5319724, 5319728, 5319731, 5319742, 5319747, 5319787, 5319803, 5319824, 5319845, 5319846, 5319847, 5319852, 5319856, 5319859, 5319864, 5319867, 5319915, 5319942]\ntrue_rhinoceri = [58889740, 58889741, 58889743, 58889744, 58889746, 58889747, 58889749, 58889750, 58889751, 58889752, 58889753, 58889755, 58889756, 58889758, 58889759, 58889760, 58889761, 58889762, 58889764, 58889765, 58889766, 58889767, 58889769, 58889770, 58889772, 58889773, 58889775, 58889776, 58889777, 58889779, 58889780, 58889782, 58889783, 58889784, 58889785, 58889787, 58889788, 58889793, 58889796, 58889798, 58889800, 58889808, 58889809, 58889810, 58889813, 58889814, 58889815, 58889817, 58889818, 58889819, 58889830, 58889835, 58889836, 58889837, 58889838, 58889839, 58889840, 58889841, 58889854, 58889857, 58889858, 58889862, 58889872, 58889875, 58889876, 58889877, 58889878, 58889879, 58889880, 58889881, 58889882, 58889884, 58889891, 58889892, 58889894, 58889896, 58889897, 58889898, 58889899, 58889900, 58889901, 58889904, 58889906, 58889908, 58889909, 58889923, 58889934, 58889938, 58889941, 58889945, 58889946, 58889947, 58889960, 58889964, 58889976, 58889980, 58889981, 58889982, 58889983, 58889986]\ntrue_starfish = [67411693, 67411694, 67411695, 67411696, 67411697, 67411698, 67411699, 67413119, 67411704, 67411714, 67411715, 67411717, 67411725, 67411740, 67411741, 67411746, 67411749, 67411762, 67411792, 67411805, 67411810, 67411812, 67411826, 67411852, 67411856, 67411875, 67411889, 67411892, 67411895, 67311897, 67411900, 67411901, 67411908, 67411910, 67411913, 67411916, 67411922, 67411927, 67411928, 67411934, 67411962, 67411964, 67411966, 67411998, 67412002, 67412006, 67412007, 67412014, 67412017, 67412060, 67412090, 67412093, 67412095, 67412098, 67412140, 67412148, 67412152, 67412172, 67412178, 67412182, 67412188, 67412194, 67412197, 67412205, 67412208, 67412218, 67412221, 67412224, 67412249, 67412267, 67412394, 67412422, 67412426, 67412427, 67412446, 67412457, 67412488, 67412489, 67412500, 67412513, 67412521, 67412574, 67412580, 67412634, 67412651, 67412681, 67412732, 67412753, 67412771, 67412774, 67412786, 67412793, 67412822, 67412823, 67412858, 67412867, 67412875, 67412880, 67412884, 67412888]\ndview['true_sock'] = true_sock\ndview['true_laptop'] = true_laptop",
     "language": "python",
     "metadata": {},
     "outputs": [],
     "prompt_number": 7
    },
    {
     "cell_type": "heading",
     "level": 3,
     "metadata": {},
     "source": "Part 5"
    },
    {
     "cell_type": "code",
     "collapsed": false,
     "input": "# convert euc_dist into a graph\n# graph is a dictionary with key:val as point:[ordered neighbors]\ndef create_graph(matrix,max_k):\n    graph = {}\n    for i in range(len(matrix)):\n        graph[ids[i]]=[x[0] for x in sorted(zip(ids,matrix[i,]),key=lambda x:x[1]) if x[0]!=ids[i]][:max_k]\n    return graph",
     "language": "python",
     "metadata": {},
     "outputs": [],
     "prompt_number": 8
    },
    {
     "cell_type": "code",
     "collapsed": false,
     "input": "# if nearly_connected, returns list of the connected elements\n# otherwise, returns empty list\n\ndef nearly_connected(graph,start):\n    checklist = []\n    # recurse through subnodes, adding new nodes encountered to the checklist\n    def check_node(node_name):\n        checklist.append(node_name)\n        for point in graph[node_name]:\n            if point not in checklist:\n                check_node(point)\n            else:\n                pass       \n\n    check_node(start)\n\t# if checklist contains all 95% nodes of the graph, graph is nearly connected\n    if len(checklist)>=0.95*len(graph):\n        return checklist\n    else:\n        return []",
     "language": "python",
     "metadata": {},
     "outputs": [],
     "prompt_number": 9
    },
    {
     "cell_type": "code",
     "collapsed": false,
     "input": "def min_k (points):\n    max_k = len(points)/2 +1\n    full_graph = create_graph(points,max_k)\n\n    for k in range(1,max_k+1):\n        print k\n        graph={}\n        # knn graph built by truncating full graph\n        for node,nbhs in full_graph.iteritems():\n            graph[node]=nbhs[:k]\n        \n        connected_list = nearly_connected(graph,ids[0])\n        # implicit boolean for empty lists\n        if connected_list:\n            return k,connected_list,graph\n        # otherwise not connected - loop around\n            \n    # if the graph is not connected even with k > n/2+1, it is set up wrongly \n    print \"Error\"\n    return -1",
     "language": "python",
     "metadata": {},
     "outputs": [],
     "prompt_number": 10
    },
    {
     "cell_type": "code",
     "collapsed": false,
     "input": "# 4000 nodes so max recursion depth is 4001 when all connected in single chain\nsys.setrecursionlimit(4001)\nk,connected_list,graph= min_k(euc_dist)",
     "language": "python",
     "metadata": {},
     "outputs": [
      {
       "output_type": "stream",
       "stream": "stdout",
       "text": "1\n2\n3\n4\n5"
      },
      {
       "output_type": "stream",
       "stream": "stdout",
       "text": "\n6"
      },
      {
       "output_type": "stream",
       "stream": "stdout",
       "text": "\n7"
      },
      {
       "output_type": "stream",
       "stream": "stdout",
       "text": "\n8"
      },
      {
       "output_type": "stream",
       "stream": "stdout",
       "text": "\n9"
      },
      {
       "output_type": "stream",
       "stream": "stdout",
       "text": "\n10"
      },
      {
       "output_type": "stream",
       "stream": "stdout",
       "text": "\n11"
      },
      {
       "output_type": "stream",
       "stream": "stdout",
       "text": "\n12"
      },
      {
       "output_type": "stream",
       "stream": "stdout",
       "text": "\n13"
      },
      {
       "output_type": "stream",
       "stream": "stdout",
       "text": "\n14"
      },
      {
       "output_type": "stream",
       "stream": "stdout",
       "text": "\n15"
      },
      {
       "output_type": "stream",
       "stream": "stdout",
       "text": "\n16"
      },
      {
       "output_type": "stream",
       "stream": "stdout",
       "text": "\n17"
      },
      {
       "output_type": "stream",
       "stream": "stdout",
       "text": "\n18"
      },
      {
       "output_type": "stream",
       "stream": "stdout",
       "text": "\n19"
      },
      {
       "output_type": "stream",
       "stream": "stdout",
       "text": "\n20"
      },
      {
       "output_type": "stream",
       "stream": "stdout",
       "text": "\n21"
      },
      {
       "output_type": "stream",
       "stream": "stdout",
       "text": "\n22"
      },
      {
       "output_type": "stream",
       "stream": "stdout",
       "text": "\n"
      }
     ],
     "prompt_number": 11
    },
    {
     "cell_type": "code",
     "collapsed": false,
     "input": "# link remaining 5% of points with their closest nbhr to build completely connected graph\ndef connect_graph(connected_list,graph):\n    for k,v in graph.iteritems():\n        if k in connected_list:\n            pass\n        else:\n            graph[k] = v[:1]",
     "language": "python",
     "metadata": {},
     "outputs": [],
     "prompt_number": 12
    },
    {
     "cell_type": "code",
     "collapsed": false,
     "input": "connect_graph(connected_list,graph)",
     "language": "python",
     "metadata": {},
     "outputs": [],
     "prompt_number": 13
    },
    {
     "cell_type": "raw",
     "metadata": {},
     "source": "k = 22 on sock/laptop data\nk = 19 on starfish/banana data\nk = 19 on rhinoceros/rainbow data\nk = 20 on sock/rhinoceros data\n\nIn general, the k values are fairly constant. This suggests that over a set of 2000 images, the sets of images corresponding to the various keywords have approximately equal degrees of \"cleanliness\", meaning that the belief that, for example, starfish images are on the whole more cohesive than rhinoceros images is unfounded. "
    },
    {
     "cell_type": "heading",
     "level": 3,
     "metadata": {},
     "source": "Question 6"
    },
    {
     "cell_type": "code",
     "collapsed": false,
     "input": "# remove items in listb from lista\ndef diff(lista, listb):\n    return list(set(lista)-set(listb))",
     "language": "python",
     "metadata": {},
     "outputs": [],
     "prompt_number": 14
    },
    {
     "cell_type": "code",
     "collapsed": false,
     "input": "def weight(dist):\n    # sigma is the tuning parameter\n    sigma = 300\n    return exp(-(dist**2)/(2*sigma))",
     "language": "python",
     "metadata": {},
     "outputs": [],
     "prompt_number": 31
    },
    {
     "cell_type": "code",
     "collapsed": false,
     "input": "W = weight(euc_dist)\nD = numpy.diag(numpy.sum(W,axis=0))\nlaplacian = numpy.asmatrix(D - W)",
     "language": "python",
     "metadata": {},
     "outputs": [],
     "prompt_number": 16
    },
    {
     "cell_type": "code",
     "collapsed": false,
     "input": "def sub_matrix(main,rows,cols):\n    pull_rows = main[rows,:]\n    return pull_rows[:,cols]",
     "language": "python",
     "metadata": {},
     "outputs": [],
     "prompt_number": 17
    },
    {
     "cell_type": "code",
     "collapsed": false,
     "input": "def calc_error(l,fu_index,fu):\n    import numpy\n    # classify by comparing to average score\n    avg_score  = numpy.mean(fu)\n    classified = map(int,(fu[fu_index]>=avg_score).ravel().tolist()[0])\n    true_resp  = [1]*l + [0]*l\n    error_list = map(lambda (x,y) : x!=y, zip(classified, true_resp))\n    return numpy.mean(error_list)",
     "language": "python",
     "metadata": {},
     "outputs": [],
     "prompt_number": 19
    },
    {
     "cell_type": "code",
     "collapsed": false,
     "input": "import numpy\nfrom scipy import linalg\nimport random\n\nrecord = []\n\nfor l in [10,20,30,40,50]:    \n    # sock = 1, laptop = 0\n    x=[1,0]\n    Yl = asmatrix(numpy.repeat(x,[l/2,l/2],axis=0)).transpose()\n        \n    error_record = []\n    ident = numpy.identity(4000-l)\n        \n    for i in range(3):\n        train_sock   = random.sample(true_sock,l/2)\n        train_laptop = random.sample(true_laptop,l/2)\n        \n        train_label = train_sock + train_laptop\n        train_l_index = map(lambda x: ids.index(x), train_label)\n        train_ul_index = diff(range(4000),train_l_index)\n        \n        test_sock   = random.sample(diff(true_sock,train_sock),50)\n        test_laptop = random.sample(diff(true_laptop,train_laptop),50)\n        \n        test_label  = test_sock + test_laptop\n        test_l_index = map(lambda x: ids.index(x), test_label)\n        fu_index = map(lambda x:train_ul_index.index(x),test_l_index)\n            \n        # shuffle cols then rows\n        uu = sub_matrix(laplacian,train_ul_index,train_ul_index)\n        ul = sub_matrix(laplacian,train_ul_index,train_l_index)\n        uu_inv = linalg.cho_solve(linalg.cho_factor(uu),ident)\n        fu = -uu_inv * ul * Yl\n            \n        error_rate = calc_error(l,fu_index,fu)\n        error_record.append(error_rate)\n        print error_rate\n            \n    l_mean = numpy.mean(error_record)\n    l_std  = numpy.std(error_record)\n    record.append((l_mean,l_std))",
     "language": "python",
     "metadata": {},
     "outputs": [
      {
       "output_type": "stream",
       "stream": "stdout",
       "text": "0.35\n0.55"
      },
      {
       "output_type": "stream",
       "stream": "stdout",
       "text": "\n0.55"
      },
      {
       "output_type": "stream",
       "stream": "stdout",
       "text": "\n0.6"
      },
      {
       "output_type": "stream",
       "stream": "stdout",
       "text": "\n0.45"
      },
      {
       "output_type": "stream",
       "stream": "stdout",
       "text": "\n0.65"
      },
      {
       "output_type": "stream",
       "stream": "stdout",
       "text": "\n0.383333333333"
      },
      {
       "output_type": "stream",
       "stream": "stdout",
       "text": "\n0.433333333333"
      },
      {
       "output_type": "stream",
       "stream": "stdout",
       "text": "\n0.45"
      },
      {
       "output_type": "stream",
       "stream": "stdout",
       "text": "\n0.3"
      },
      {
       "output_type": "stream",
       "stream": "stdout",
       "text": "\n0.3625"
      },
      {
       "output_type": "stream",
       "stream": "stdout",
       "text": "\n0.2875"
      },
      {
       "output_type": "stream",
       "stream": "stdout",
       "text": "\n0.19"
      },
      {
       "output_type": "stream",
       "stream": "stdout",
       "text": "\n0.14"
      },
      {
       "output_type": "stream",
       "stream": "stdout",
       "text": "\n0.11"
      },
      {
       "output_type": "stream",
       "stream": "stdout",
       "text": "\n"
      }
     ],
     "prompt_number": 32
    },
    {
     "cell_type": "code",
     "collapsed": false,
     "input": "# Plot the results\nimport matplotlib.pyplot as plt\nx = [10,20,30,40,50]\ny = [ele[0] for ele in record]\nerr = [ele[1] for ele in record]\n\nfig = plt.figure()\nplt.xlabel('size of training sets')\nplt.ylabel('average error rate')\nplt.title('Laptop vs sock')\n\nplt.plot(x, y)\nerrorbar(x, y, yerr=err, fmt='ro', linestyle='-', linewidth=2)\n\nplt.axis([10,50,0.1,0.7])\nax = plt.gca()\nax.set_autoscale_on(False)\n\nplt.show()\n",
     "language": "python",
     "metadata": {},
     "outputs": [
      {
       "output_type": "display_data",
       "png": "[encoded data removed]",
       "text": "<matplotlib.figure.Figure at 0x3ea2590>"
      }
     ],
     "prompt_number": 33
    },
    {
     "cell_type": "raw",
     "metadata": {},
     "source": "For small training sets, the SSL method does not seem to perform better than knn method. Compared to our error rates in Question 4, those here are higher over all values of k until the training set reaches a size of about 40. We postulate that this is because the weighting process reduces the magnitude of the \"separation\" between the nodes making the solutions numerically less stable. \n\nWhen the training set gets larger, we begin to see a payoff from having supervision. Where the reduction in error rate for knn seems to taper beyond a training set size of 40, for SSL, we observe a continuing reduction in error.  "
    },
    {
     "cell_type": "code",
     "collapsed": false,
     "input": "",
     "language": "python",
     "metadata": {},
     "outputs": []
    }
   ],
   "metadata": {}
  }
 ]
}